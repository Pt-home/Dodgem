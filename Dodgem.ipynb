{
  "nbformat": 4,
  "nbformat_minor": 0,
  "metadata": {
    "colab": {
      "provenance": [],
      "authorship_tag": "ABX9TyMKvrpmey30cq1qAbVuIb/w",
      "include_colab_link": true
    },
    "kernelspec": {
      "name": "python3",
      "display_name": "Python 3"
    },
    "language_info": {
      "name": "python"
    }
  },
  "cells": [
    {
      "cell_type": "markdown",
      "metadata": {
        "id": "view-in-github",
        "colab_type": "text"
      },
      "source": [
        "<a href=\"https://colab.research.google.com/github/Pt-home/Dodgem/blob/main/Dodgem.ipynb\" target=\"_parent\"><img src=\"https://colab.research.google.com/assets/colab-badge.svg\" alt=\"Open In Colab\"/></a>"
      ]
    },
    {
      "cell_type": "code",
      "execution_count": null,
      "metadata": {
        "id": "uYj0-KxJECe6"
      },
      "outputs": [],
      "source": [
        "# 🎮 Dodgem — універсальна версія з вибором розміру дошки\n",
        "\n",
        "import random\n",
        "from collections import defaultdict, Counter\n",
        "import matplotlib.pyplot as plt\n",
        "import json"
      ]
    },
    {
      "cell_type": "code",
      "source": [
        "# 🧩 Налаштування\n",
        "board_size = 4  # ← Можна змінити на 3, 5, 6...\n",
        "\n",
        "games_to_play = 5000000\n",
        "learning_rate = 0.1\n",
        "epsilon = 0.1"
      ],
      "metadata": {
        "id": "W_pj1sdMEHpt"
      },
      "execution_count": null,
      "outputs": []
    },
    {
      "cell_type": "code",
      "source": [
        "# 🚀 Початкова конфігурація відповідно до розміру\n",
        "def initial_state():\n",
        "    x_pieces = [(0, i) for i in range(board_size - 1)]\n",
        "    y_pieces = [(i, board_size - 1) for i in range(1, board_size)]\n",
        "    return (x_pieces, y_pieces, 'X')\n",
        "\n",
        "# 🧠 Генерація можливих ходів\n",
        "def get_legal_moves(state):\n",
        "    x_pieces, y_pieces, turn = state\n",
        "    occupied = set(p for p in x_pieces + y_pieces if p != 'out')\n",
        "    legal = []\n",
        "\n",
        "    if turn == 'X':\n",
        "        for i, pos in enumerate(x_pieces):\n",
        "            if pos == 'out': continue\n",
        "            x, y = pos\n",
        "            if x == board_size - 1:\n",
        "                legal.append((i, 'exit'))\n",
        "            if (x+1, y) not in occupied and x+1 < board_size:\n",
        "                legal.append((i, 'right'))\n",
        "            if (x, y+1) not in occupied and y+1 < board_size:\n",
        "                legal.append((i, 'down'))\n",
        "    else:\n",
        "        for i, pos in enumerate(y_pieces):\n",
        "            if pos == 'out': continue\n",
        "            x, y = pos\n",
        "            if y == 0:\n",
        "                legal.append((i, 'exit'))\n",
        "            if (x-1, y) not in occupied and x-1 >= 0:\n",
        "                legal.append((i, 'left'))\n",
        "            if (x, y-1) not in occupied and y-1 >= 0:\n",
        "                legal.append((i, 'up'))\n",
        "    return legal\n",
        "\n",
        "# ⬆⬇ Застосування ходу\n",
        "def apply_move(state, move):\n",
        "    x_pieces, y_pieces, turn = state\n",
        "    x_pieces = x_pieces[:]\n",
        "    y_pieces = y_pieces[:]\n",
        "    i, direction = move\n",
        "\n",
        "    if turn == 'X':\n",
        "        if direction == 'exit':\n",
        "            x_pieces[i] = 'out'\n",
        "        else:\n",
        "            x, y = x_pieces[i]\n",
        "            if direction == 'right': x_pieces[i] = (x+1, y)\n",
        "            elif direction == 'down': x_pieces[i] = (x, y+1)\n",
        "        return (x_pieces, y_pieces, 'Y')\n",
        "    else:\n",
        "        if direction == 'exit':\n",
        "            y_pieces[i] = 'out'\n",
        "        else:\n",
        "            x, y = y_pieces[i]\n",
        "            if direction == 'left': y_pieces[i] = (x-1, y)\n",
        "            elif direction == 'up': y_pieces[i] = (x, y-1)\n",
        "        return (x_pieces, y_pieces, 'X')\n",
        "\n",
        "# Перевірка завершення гри\n",
        "def is_terminal(state):\n",
        "    return all(p == 'out' for p in state[0]) or all(p == 'out' for p in state[1])\n",
        "\n",
        "# Переможець\n",
        "def winner(state):\n",
        "    x_done = all(p == 'out' for p in state[0])\n",
        "    y_done = all(p == 'out' for p in state[1])\n",
        "    if x_done and not y_done: return 'X'\n",
        "    if y_done and not x_done: return 'Y'\n",
        "    return None"
      ],
      "metadata": {
        "id": "nWNaPcu0ESg8"
      },
      "execution_count": null,
      "outputs": []
    },
    {
      "cell_type": "code",
      "source": [
        "# Q-таблиця для навчання\n",
        "q_table = {'X': defaultdict(lambda: defaultdict(lambda: 1.0)),\n",
        "           'Y': defaultdict(lambda: defaultdict(lambda: 1.0))}"
      ],
      "metadata": {
        "id": "2dR30XJaEbGE"
      },
      "execution_count": null,
      "outputs": []
    },
    {
      "cell_type": "code",
      "source": [
        "# 🔁 Завантаження Q-таблиці - при потребі\n",
        "def load_qtable(filename):\n",
        "    with open(filename, \"r\") as f:\n",
        "        data = json.load(f)\n",
        "    q = {'X': defaultdict(lambda: defaultdict(lambda: 1.0)),\n",
        "         'Y': defaultdict(lambda: defaultdict(lambda: 1.0))}\n",
        "    for player in data:\n",
        "        for state in data[player]:\n",
        "            for move, value in data[player][state].items():\n",
        "                move_tuple = eval(move)\n",
        "                q[player][state][move_tuple] = value\n",
        "    return q\n",
        "\n",
        "# q_table = load_qtable(\"Q_Dodgem_4x4_G50000_lr0.1_eps0.1.json\")"
      ],
      "metadata": {
        "id": "GgEMHyqdHekz"
      },
      "execution_count": null,
      "outputs": []
    },
    {
      "cell_type": "code",
      "source": [
        "# Вибір ходу\n",
        "def choose_move(player, state):\n",
        "    legal = get_legal_moves(state)\n",
        "    if not legal:\n",
        "        return None\n",
        "    if random.random() < epsilon:\n",
        "        return random.choice(legal)\n",
        "    weights = q_table[player][str(state)]\n",
        "    weighted = [(m, weights[m]) for m in legal]\n",
        "    total = sum(w for _, w in weighted)\n",
        "    if total <= 0:\n",
        "        return random.choice(legal)\n",
        "    probs = [w / total for _, w in weighted]\n",
        "    return random.choices([m for m, _ in weighted], probs)[0]\n",
        "\n",
        "# Симуляція гри\n",
        "def play_game():\n",
        "    state = initial_state()\n",
        "    trajectory = []\n",
        "\n",
        "    while not is_terminal(state):\n",
        "        player = state[2]\n",
        "        legal = get_legal_moves(state)\n",
        "\n",
        "        if not legal:\n",
        "            # Заблокований гравець = його суперник порушив правило → перемога заблокованого\n",
        "            winner_player = 'Y' if player == 'X' else 'X'\n",
        "            return winner_player, trajectory\n",
        "\n",
        "        move = choose_move(player, state)\n",
        "        trajectory.append((player, str(state), move))\n",
        "        state = apply_move(state, move)\n",
        "\n",
        "    return winner(state), trajectory\n",
        "# Навчання\n",
        "def train(n):\n",
        "    wins = Counter()\n",
        "    for i in range(1, n + 1):\n",
        "        result, path = play_game()\n",
        "        wins[result] += 1\n",
        "        for player, state, move in path:\n",
        "            reward = 1 if result == player else 0\n",
        "            q_table[player][state][move] += learning_rate * (reward - q_table[player][state][move])\n",
        "\n",
        "        # 📝 Звіт кожні 100,000 ігор\n",
        "        if i % 100000 == 0:\n",
        "            total = wins['X'] + wins['Y']\n",
        "            x_pct = 100 * wins['X'] / total if total > 0 else 0\n",
        "            y_pct = 100 * wins['Y'] / total if total > 0 else 0\n",
        "            print(f\"🧪 Trained on {i} games: X = {wins['X']} ({x_pct:.1f}%), Y = {wins['Y']} ({y_pct:.1f}%)\")\n",
        "    return wins\n",
        "\n"
      ],
      "metadata": {
        "id": "f_ZId6l3Egx0"
      },
      "execution_count": null,
      "outputs": []
    },
    {
      "cell_type": "code",
      "source": [
        "results = train(games_to_play)\n",
        "print(f\"🏁 Results after training on {board_size}×{board_size} board:\", results)\n"
      ],
      "metadata": {
        "colab": {
          "base_uri": "https://localhost:8080/"
        },
        "id": "Ocf0xiDlEnGU",
        "outputId": "315462bf-4109-4455-81c3-c26edf212ec2"
      },
      "execution_count": null,
      "outputs": [
        {
          "output_type": "stream",
          "name": "stdout",
          "text": [
            "🧪 Trained on 100000 games: X = 55266 (55.3%), Y = 44734 (44.7%)\n",
            "🧪 Trained on 200000 games: X = 109177 (54.6%), Y = 90823 (45.4%)\n",
            "🧪 Trained on 300000 games: X = 162609 (54.2%), Y = 137391 (45.8%)\n",
            "🧪 Trained on 400000 games: X = 215419 (53.9%), Y = 184581 (46.1%)\n",
            "🧪 Trained on 500000 games: X = 268353 (53.7%), Y = 231647 (46.3%)\n",
            "🧪 Trained on 600000 games: X = 321138 (53.5%), Y = 278862 (46.5%)\n",
            "🧪 Trained on 700000 games: X = 373774 (53.4%), Y = 326226 (46.6%)\n",
            "🧪 Trained on 800000 games: X = 426326 (53.3%), Y = 373674 (46.7%)\n",
            "🧪 Trained on 900000 games: X = 478662 (53.2%), Y = 421338 (46.8%)\n",
            "🧪 Trained on 1000000 games: X = 531106 (53.1%), Y = 468894 (46.9%)\n",
            "🧪 Trained on 1100000 games: X = 583314 (53.0%), Y = 516686 (47.0%)\n",
            "🧪 Trained on 1200000 games: X = 635568 (53.0%), Y = 564432 (47.0%)\n",
            "🧪 Trained on 1300000 games: X = 687869 (52.9%), Y = 612131 (47.1%)\n",
            "🧪 Trained on 1400000 games: X = 740081 (52.9%), Y = 659919 (47.1%)\n",
            "🧪 Trained on 1500000 games: X = 792222 (52.8%), Y = 707778 (47.2%)\n",
            "🧪 Trained on 1600000 games: X = 843979 (52.7%), Y = 756021 (47.3%)\n",
            "🧪 Trained on 1700000 games: X = 896059 (52.7%), Y = 803941 (47.3%)\n",
            "🧪 Trained on 1800000 games: X = 948063 (52.7%), Y = 851937 (47.3%)\n",
            "🧪 Trained on 1900000 games: X = 999980 (52.6%), Y = 900020 (47.4%)\n",
            "🧪 Trained on 2000000 games: X = 1051757 (52.6%), Y = 948243 (47.4%)\n",
            "🧪 Trained on 2100000 games: X = 1103561 (52.6%), Y = 996439 (47.4%)\n",
            "🧪 Trained on 2200000 games: X = 1155320 (52.5%), Y = 1044680 (47.5%)\n",
            "🧪 Trained on 2300000 games: X = 1207088 (52.5%), Y = 1092912 (47.5%)\n",
            "🧪 Trained on 2400000 games: X = 1258887 (52.5%), Y = 1141113 (47.5%)\n",
            "🧪 Trained on 2500000 games: X = 1310563 (52.4%), Y = 1189437 (47.6%)\n",
            "🧪 Trained on 2600000 games: X = 1362248 (52.4%), Y = 1237752 (47.6%)\n",
            "🧪 Trained on 2700000 games: X = 1414136 (52.4%), Y = 1285864 (47.6%)\n",
            "🧪 Trained on 2800000 games: X = 1465823 (52.4%), Y = 1334177 (47.6%)\n",
            "🧪 Trained on 2900000 games: X = 1517747 (52.3%), Y = 1382253 (47.7%)\n",
            "🧪 Trained on 3000000 games: X = 1569365 (52.3%), Y = 1430635 (47.7%)\n",
            "🧪 Trained on 3100000 games: X = 1621192 (52.3%), Y = 1478808 (47.7%)\n",
            "🧪 Trained on 3200000 games: X = 1673176 (52.3%), Y = 1526824 (47.7%)\n",
            "🧪 Trained on 3300000 games: X = 1724770 (52.3%), Y = 1575230 (47.7%)\n",
            "🧪 Trained on 3400000 games: X = 1776524 (52.3%), Y = 1623476 (47.7%)\n",
            "🧪 Trained on 3500000 games: X = 1828175 (52.2%), Y = 1671825 (47.8%)\n",
            "🧪 Trained on 3600000 games: X = 1879648 (52.2%), Y = 1720352 (47.8%)\n",
            "🧪 Trained on 3700000 games: X = 1931208 (52.2%), Y = 1768792 (47.8%)\n",
            "🧪 Trained on 3800000 games: X = 1982616 (52.2%), Y = 1817384 (47.8%)\n",
            "🧪 Trained on 3900000 games: X = 2034391 (52.2%), Y = 1865609 (47.8%)\n",
            "🧪 Trained on 4000000 games: X = 2085810 (52.1%), Y = 1914190 (47.9%)\n",
            "🧪 Trained on 4100000 games: X = 2137464 (52.1%), Y = 1962536 (47.9%)\n",
            "🧪 Trained on 4200000 games: X = 2189376 (52.1%), Y = 2010624 (47.9%)\n",
            "🧪 Trained on 4300000 games: X = 2241202 (52.1%), Y = 2058798 (47.9%)\n",
            "🧪 Trained on 4400000 games: X = 2293098 (52.1%), Y = 2106902 (47.9%)\n",
            "🧪 Trained on 4500000 games: X = 2344561 (52.1%), Y = 2155439 (47.9%)\n",
            "🧪 Trained on 4600000 games: X = 2396370 (52.1%), Y = 2203630 (47.9%)\n",
            "🧪 Trained on 4700000 games: X = 2447992 (52.1%), Y = 2252008 (47.9%)\n",
            "🧪 Trained on 4800000 games: X = 2499564 (52.1%), Y = 2300436 (47.9%)\n",
            "🧪 Trained on 4900000 games: X = 2551533 (52.1%), Y = 2348467 (47.9%)\n",
            "🧪 Trained on 5000000 games: X = 2603228 (52.1%), Y = 2396772 (47.9%)\n",
            "🏁 Results after training on 4×4 board: Counter({'X': 2603228, 'Y': 2396772})\n"
          ]
        }
      ]
    },
    {
      "cell_type": "code",
      "source": [
        "# 📊 Графік\n",
        "labels = list(results.keys())\n",
        "values = [results[k] for k in labels]\n",
        "plt.bar(labels, values, color=['blue', 'red'])\n",
        "plt.title(f\"Dodgem {board_size}×{board_size}: Wins After Training\")\n",
        "plt.ylabel(\"Games Won\")\n",
        "plt.show()"
      ],
      "metadata": {
        "colab": {
          "base_uri": "https://localhost:8080/",
          "height": 452
        },
        "id": "r5Tjg9p4FP11",
        "outputId": "3ec32c27-6343-4938-baad-01673c91bad6"
      },
      "execution_count": null,
      "outputs": [
        {
          "output_type": "display_data",
          "data": {
            "text/plain": [
              "<Figure size 640x480 with 1 Axes>"
            ],
            "image/png": "[encoded data removed]"
          },
          "metadata": {}
        }
      ]
    },
    {
      "cell_type": "code",
      "source": [
        "# 📁 Формування унікального імені файлу\n",
        "q_filename = f\"Q_Dodgem_{board_size}x{board_size}_G{games_to_play}_lr{learning_rate}_eps{epsilon}.json\"\n",
        "\n",
        "# 🔄 Підготовка структури для збереження\n",
        "def convert_qtable_to_serializable(qtable):\n",
        "    serializable = {}\n",
        "    for player in qtable:\n",
        "        serializable[player] = {}\n",
        "        for state, moves in qtable[player].items():\n",
        "            serializable[player][state] = {str(k): v for k, v in moves.items()}\n",
        "    return serializable\n",
        "\n",
        "# 💾 Зберігання\n",
        "with open(q_filename, \"w\") as f:\n",
        "    json.dump(convert_qtable_to_serializable(q_table), f)\n",
        "\n",
        "print(f\"✅ Q-table saved to file: {q_filename}\")"
      ],
      "metadata": {
        "colab": {
          "base_uri": "https://localhost:8080/"
        },
        "id": "k-sM1dXTHXYb",
        "outputId": "b45fe9d8-4a8b-427a-db7e-5247f9ca27e0"
      },
      "execution_count": null,
      "outputs": [
        {
          "output_type": "stream",
          "name": "stdout",
          "text": [
            "✅ Q-table saved to file: Q_Dodgem_4x4_G5000000_lr0.1_eps0.1.json\n"
          ]
        }
      ]
    }
  ]
}
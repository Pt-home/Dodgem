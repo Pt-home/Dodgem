{
  "nbformat": 4,
  "nbformat_minor": 0,
  "metadata": {
    "colab": {
      "provenance": [],
      "authorship_tag": "ABX9TyN4enpmdogwj2pK/0wyn2Kv",
      "include_colab_link": true
    },
    "kernelspec": {
      "name": "python3",
      "display_name": "Python 3"
    },
    "language_info": {
      "name": "python"
    }
  },
  "cells": [
    {
      "cell_type": "markdown",
      "metadata": {
        "id": "view-in-github",
        "colab_type": "text"
      },
      "source": [
        "<a href=\"https://colab.research.google.com/github/Pt-home/Dodgem/blob/main/Dodgem_Updated_With_Draw.ipynb\" target=\"_parent\"><img src=\"https://colab.research.google.com/assets/colab-badge.svg\" alt=\"Open In Colab\"/></a>"
      ]
    },
    {
      "cell_type": "code",
      "execution_count": 2,
      "metadata": {
        "id": "uYj0-KxJECe6"
      },
      "outputs": [],
      "source": [
        "# 🎮 Dodgem — універсальна версія з вибором розміру дошки\n",
        "\n",
        "import random\n",
        "from collections import defaultdict, Counter\n",
        "import matplotlib.pyplot as plt\n",
        "import json"
      ]
    },
    {
      "cell_type": "code",
      "source": [
        "# 🧩 Налаштування\n",
        "board_size = 5  # ← Можна змінити на 3, 5, 6...\n",
        "\n",
        "games_to_play = 100000\n",
        "learning_rate = 0.1\n",
        "epsilon = 0.1"
      ],
      "metadata": {
        "id": "W_pj1sdMEHpt"
      },
      "execution_count": 18,
      "outputs": []
    },
    {
      "cell_type": "code",
      "source": [
        "# 🚀 Початкова конфігурація відповідно до розміру\n",
        "def initial_state():\n",
        "    x_pieces = [(0, i) for i in range(board_size - 1)]\n",
        "    y_pieces = [(i, board_size - 1) for i in range(1, board_size)]\n",
        "    return (x_pieces, y_pieces, 'X')\n",
        "\n",
        "# 🧠 Генерація можливих ходів\n",
        "def get_legal_moves(state):\n",
        "    x_pieces, y_pieces, turn = state\n",
        "    occupied = set(p for p in x_pieces + y_pieces if p != 'out')\n",
        "    legal = []\n",
        "\n",
        "    if turn == 'X':\n",
        "        for i, pos in enumerate(x_pieces):\n",
        "            if pos == 'out': continue\n",
        "            x, y = pos\n",
        "            if x == board_size - 1:\n",
        "                legal.append((i, 'exit'))\n",
        "            if (x+1, y) not in occupied and x+1 < board_size:\n",
        "                legal.append((i, 'right'))\n",
        "            if (x, y+1) not in occupied and y+1 < board_size:\n",
        "                legal.append((i, 'down'))\n",
        "    else:\n",
        "        for i, pos in enumerate(y_pieces):\n",
        "            if pos == 'out': continue\n",
        "            x, y = pos\n",
        "            if y == 0:\n",
        "                legal.append((i, 'exit'))\n",
        "            if (x-1, y) not in occupied and x-1 >= 0:\n",
        "                legal.append((i, 'left'))\n",
        "            if (x, y-1) not in occupied and y-1 >= 0:\n",
        "                legal.append((i, 'up'))\n",
        "    return legal\n",
        "\n",
        "# ⬆⬇ Застосування ходу\n",
        "def apply_move(state, move):\n",
        "    x_pieces, y_pieces, turn = state\n",
        "    x_pieces = x_pieces[:]\n",
        "    y_pieces = y_pieces[:]\n",
        "    i, direction = move\n",
        "\n",
        "    if turn == 'X':\n",
        "        if direction == 'exit':\n",
        "            x_pieces[i] = 'out'\n",
        "        else:\n",
        "            x, y = x_pieces[i]\n",
        "            if direction == 'right': x_pieces[i] = (x+1, y)\n",
        "            elif direction == 'down': x_pieces[i] = (x, y+1)\n",
        "        return (x_pieces, y_pieces, 'Y')\n",
        "    else:\n",
        "        if direction == 'exit':\n",
        "            y_pieces[i] = 'out'\n",
        "        else:\n",
        "            x, y = y_pieces[i]\n",
        "            if direction == 'left': y_pieces[i] = (x-1, y)\n",
        "            elif direction == 'up': y_pieces[i] = (x, y-1)\n",
        "        return (x_pieces, y_pieces, 'X')\n",
        "\n",
        "# Перевірка завершення гри\n",
        "def is_terminal(state):\n",
        "    return all(p == 'out' for p in state[0]) or all(p == 'out' for p in state[1])\n",
        "\n",
        "# Переможець\n",
        "def winner(state):\n",
        "    x_done = all(p == 'out' for p in state[0])\n",
        "    y_done = all(p == 'out' for p in state[1])\n",
        "    if x_done and not y_done: return 'X'\n",
        "    if y_done and not x_done: return 'Y'\n",
        "    return None"
      ],
      "metadata": {
        "id": "nWNaPcu0ESg8"
      },
      "execution_count": 19,
      "outputs": []
    },
    {
      "cell_type": "code",
      "source": [
        "# Q-таблиця для навчання\n",
        "q_table = {'X': defaultdict(lambda: defaultdict(lambda: 1.0)),\n",
        "           'Y': defaultdict(lambda: defaultdict(lambda: 1.0))}"
      ],
      "metadata": {
        "id": "2dR30XJaEbGE"
      },
      "execution_count": 20,
      "outputs": []
    },
    {
      "cell_type": "code",
      "source": [
        "# 🔁 Завантаження Q-таблиці - при потребі\n",
        "def load_qtable(filename):\n",
        "    with open(filename, \"r\") as f:\n",
        "        data = json.load(f)\n",
        "    q = {'X': defaultdict(lambda: defaultdict(lambda: 1.0)),\n",
        "         'Y': defaultdict(lambda: defaultdict(lambda: 1.0))}\n",
        "    for player in data:\n",
        "        for state in data[player]:\n",
        "            for move, value in data[player][state].items():\n",
        "                move_tuple = eval(move)\n",
        "                q[player][state][move_tuple] = value\n",
        "    return q\n",
        "\n",
        "# q_table = load_qtable(\"Q_Dodgem_4x4_G50000_lr0.1_eps0.1.json\")"
      ],
      "metadata": {
        "id": "GgEMHyqdHekz"
      },
      "execution_count": null,
      "outputs": []
    },
    {
      "cell_type": "code",
      "source": [
        "# Вибір ходу\n",
        "def choose_move(player, state):\n",
        "    legal = get_legal_moves(state)\n",
        "    if not legal:\n",
        "        return None\n",
        "    if random.random() < epsilon:\n",
        "        return random.choice(legal)\n",
        "    weights = q_table[player][str(state)]\n",
        "    weighted = [(m, weights[m]) for m in legal]\n",
        "    total = sum(w for _, w in weighted)\n",
        "    if total <= 0:\n",
        "        return random.choice(legal)\n",
        "    probs = [w / total for _, w in weighted]\n",
        "    return random.choices([m for m, _ in weighted], probs)[0]\n",
        "\n",
        "# Симуляція гри\n",
        "def play_game():\n",
        "    state = initial_state()\n",
        "    trajectory = []\n",
        "\n",
        "    while not is_terminal(state):\n",
        "        player = state[2]\n",
        "        legal = get_legal_moves(state)\n",
        "        if not legal:\n",
        "            # Блокування = програш для поточного гравця\n",
        "            return 'Y' if player == 'X' else 'X', trajectory\n",
        "\n",
        "        move = choose_move(player, state)\n",
        "        if move is None:\n",
        "            return 'Y' if player == 'X' else 'X', trajectory\n",
        "\n",
        "        trajectory.append((player, str(state), move))\n",
        "        state = apply_move(state, move)\n",
        "\n",
        "        # --- Перевірка на нічийну ситуацію ---\n",
        "        # Якщо X вивів усі фішки — дамо Y один додатковий хід\n",
        "        if is_terminal(state):\n",
        "            winner_now = winner(state)\n",
        "            if winner_now == 'X':\n",
        "                y_remaining = any(p != 'out' for p in state[1])\n",
        "                if y_remaining:\n",
        "                    # Додатковий хід для Y\n",
        "                    legal_y = get_legal_moves(state)\n",
        "                    if legal_y:\n",
        "                        move_y = choose_move('Y', state)\n",
        "                        if move_y:\n",
        "                            trajectory.append(('Y', str(state), move_y))\n",
        "                            state = apply_move(state, move_y)\n",
        "                        # Перевірка: чи Y теж завершив\n",
        "                        if all(p == 'out' for p in state[1]):\n",
        "                            return 'Draw', trajectory\n",
        "                        else:\n",
        "                            return 'X', trajectory\n",
        "            elif winner_now == 'Y':\n",
        "                return 'Y', trajectory\n",
        "\n",
        "    return winner(state), trajectory\n",
        "# Навчання\n",
        "def train(n):\n",
        "    wins = Counter()\n",
        "    for i in range(1, n + 1):\n",
        "        result, path = play_game()\n",
        "        wins[result] += 1\n",
        "        for player, state_str, move in path:\n",
        "            if result == 'Draw':\n",
        "                reward = 0.5  # Нічия — часткова нагорода\n",
        "            else:\n",
        "                reward = 1 if result == player else 0\n",
        "            q_table[player][state_str][move] += learning_rate * (reward - q_table[player][state_str][move])\n",
        "\n",
        "        if i % 100000 == 0:\n",
        "            total = sum(wins.values())\n",
        "            print(f\"After {i} games:\", ', '.join(\n",
        "                [f\"{p} = {wins[p]} ({100 * wins[p]/total:.1f}%)\" for p in ['X', 'Y', 'Draw'] if p in wins]))\n",
        "\n",
        "    return wins\n",
        "\n"
      ],
      "metadata": {
        "id": "f_ZId6l3Egx0"
      },
      "execution_count": 21,
      "outputs": []
    },
    {
      "cell_type": "code",
      "source": [
        "results = train(games_to_play)\n",
        "print(f\"🏁 Results after training on {board_size}×{board_size} board:\", results)\n"
      ],
      "metadata": {
        "colab": {
          "base_uri": "https://localhost:8080/"
        },
        "id": "Ocf0xiDlEnGU",
        "outputId": "5660d791-f836-4aef-d335-307484f44703"
      },
      "execution_count": 22,
      "outputs": [
        {
          "output_type": "stream",
          "name": "stdout",
          "text": [
            "After 100000 games: X = 40705 (40.7%), Y = 43679 (43.7%), Draw = 15616 (15.6%)\n",
            "🏁 Results after training on 5×5 board: Counter({'Y': 43679, 'X': 40705, 'Draw': 15616})\n"
          ]
        }
      ]
    },
    {
      "cell_type": "code",
      "source": [
        "# 📊 Графік\n",
        "def plot_results(results, title=\"Dodgem Results\"):\n",
        "    labels = ['X', 'Y', 'Draw']\n",
        "    colors = ['red', 'blue', 'gray']\n",
        "    values = [results.get(k, 0) for k in labels]\n",
        "\n",
        "    plt.figure(figsize=(6, 4))\n",
        "    bars = plt.bar(labels, values, color=colors)\n",
        "    plt.title(title)\n",
        "    plt.ylabel(\"Games Won\")\n",
        "    plt.grid(axis='y', linestyle='--', alpha=0.7)\n",
        "\n",
        "    for bar in bars:\n",
        "        yval = bar.get_height()\n",
        "        plt.text(bar.get_x() + bar.get_width()/2, yval + 1, int(yval),\n",
        "                 ha='center', va='bottom', fontsize=10)\n",
        "\n",
        "    plt.tight_layout()\n",
        "    plt.show()\n",
        "\n",
        "plot_results(results)"
      ],
      "metadata": {
        "colab": {
          "base_uri": "https://localhost:8080/",
          "height": 407
        },
        "id": "r5Tjg9p4FP11",
        "outputId": "17daf3bb-bae6-48ac-dd41-a960a14ffa32"
      },
      "execution_count": 16,
      "outputs": [
        {
          "output_type": "display_data",
          "data": {
            "text/plain": [
              "<Figure size 600x400 with 1 Axes>"
            ],
            "image/png": "[encoded data removed]"
          },
          "metadata": {}
        }
      ]
    },
    {
      "cell_type": "code",
      "source": [
        "# 📁 Формування унікального імені файлу\n",
        "q_filename = f\"Q_Dodgem_With_Draw_{board_size}x{board_size}_G{games_to_play}_lr{learning_rate}_eps{epsilon}.json\"\n",
        "\n",
        "# 🔄 Підготовка структури для збереження\n",
        "def convert_qtable_to_serializable(qtable):\n",
        "    serializable = {}\n",
        "    for player in qtable:\n",
        "        serializable[player] = {}\n",
        "        for state, moves in qtable[player].items():\n",
        "            serializable[player][state] = {str(k): v for k, v in moves.items()}\n",
        "    return serializable\n",
        "\n",
        "# 💾 Зберігання\n",
        "with open(q_filename, \"w\") as f:\n",
        "    json.dump(convert_qtable_to_serializable(q_table), f)\n",
        "\n",
        "print(f\"✅ Q-table saved to file: {q_filename}\")"
      ],
      "metadata": {
        "colab": {
          "base_uri": "https://localhost:8080/"
        },
        "id": "k-sM1dXTHXYb",
        "outputId": "7579cc93-1d32-4785-ad19-1559862a4363"
      },
      "execution_count": 17,
      "outputs": [
        {
          "output_type": "stream",
          "name": "stdout",
          "text": [
            "✅ Q-table saved to file: Q_Dodgem_With_Draw_4x4_G1000000_lr0.1_eps0.1.json\n"
          ]
        }
      ]
    }
  ]
}